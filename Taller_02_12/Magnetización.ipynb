{
 "cells": [
  {
   "cell_type": "code",
   "execution_count": 1,
   "metadata": {},
   "outputs": [],
   "source": [
    "from numpy import *\n",
    "from math import *\n",
    "from pylab import  *"
   ]
  },
  {
   "cell_type": "code",
   "execution_count": 5,
   "metadata": {},
   "outputs": [
    {
     "data": {
      "image/png": "[encoded data removed]",
      "text/plain": [
       "<matplotlib.figure.Figure at 0x7f26985f2630>"
      ]
     },
     "metadata": {
      "needs_background": "light"
     },
     "output_type": "display_data"
    }
   ],
   "source": [
    "###### Constantes ######\n",
    "\n",
    "T_m = 2.0 \n",
    "n = 1000\n",
    "pre = 1e-6\n",
    "\n",
    "##############################################\n",
    "\n",
    "\n",
    "###### Vector Solución ######\n",
    "\n",
    "y = []\n",
    "temp = linspace(0.01,T_m,n)\n",
    "\n",
    "##############################################\n",
    "\n",
    "\n",
    "###### Iteración ######\n",
    "\n",
    "for T in temp:\n",
    "    m1 = 1.0\n",
    "    er = 1.0\n",
    "    \n",
    "###############################################\n",
    "\n",
    "\n",
    "###### loop until error is small enought ######\n",
    "\n",
    "    while er>pre:\n",
    "        m1,m2 = tanh(m1/T),m1\n",
    "        er = abs((m1-m2)/(1-T*cosh(m2/T)**2))\n",
    "    y.append(m1)\n",
    "    \n",
    "###############################################\n",
    "\n",
    "    \n",
    "###### Gráfica ######\n",
    "\n",
    "plot(temp,y)\n",
    "ylim(-0.1,1.1)\n",
    "xlabel(\"Temperatura\")\n",
    "ylabel(\"Magnetización\")\n",
    "show()\n",
    "\n",
    "###############################################"
   ]
  },
  {
   "cell_type": "markdown",
   "metadata": {},
   "source": [
    "La gráfica anterior describe que para entre 0 y 1 de la temperatura existen diversos valores de magnetización, en los valos de 1 en adelante la función converge a 0 y se mantiene constante."
   ]
  },
  {
   "cell_type": "code",
   "execution_count": null,
   "metadata": {},
   "outputs": [],
   "source": []
  }
 ],
 "metadata": {
  "kernelspec": {
   "display_name": "Python 3",
   "language": "python",
   "name": "python3"
  },
  "language_info": {
   "codemirror_mode": {
    "name": "ipython",
    "version": 3
   },
   "file_extension": ".py",
   "mimetype": "text/x-python",
   "name": "python",
   "nbconvert_exporter": "python",
   "pygments_lexer": "ipython3",
   "version": "3.6.8"
  }
 },
 "nbformat": 4,
 "nbformat_minor": 2
}

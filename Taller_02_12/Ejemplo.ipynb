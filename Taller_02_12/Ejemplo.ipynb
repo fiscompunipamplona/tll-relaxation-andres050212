{
 "cells": [
  {
   "cell_type": "code",
   "execution_count": 1,
   "metadata": {},
   "outputs": [],
   "source": [
    "from numpy import empty, zeros, max\n",
    "from pylab import imshow,gray,show,inferno"
   ]
  },
  {
   "cell_type": "code",
   "execution_count": null,
   "metadata": {},
   "outputs": [],
   "source": [
    "#constantes\n",
    "M=100 #grid squares on a side\n",
    "v=1.0  #voltage at top wall\n",
    "q=1.0\n",
    "#a=10.0\n",
    "target= 1e-4 #Target accuracy\n",
    "\n",
    "#create arrays to hold potencial values,\n",
    "\n",
    "phi= zeros([M+1,M+1],float)\n",
    "phi[0,:]=0\n",
    "rho = zeros([M+1,M+1],float)\n",
    "rho[60:80,20:40] = q\n",
    "rho[60:80,20:40] = -q\n",
    "phiprime=empty([M+1,M+1],float)\n",
    "#main loop\n",
    "delta=1.0\n",
    "while delta> target:\n",
    "    #calculate new values of the potencial\n",
    "    for i in range (M+1):\n",
    "        for j in range(M+1):\n",
    "            if i==0 or i==M or j==0 or j==M:\n",
    "                phiprime[i,j]=phi[i,j]\n",
    "            else:\n",
    "                phiprime[i,j]= (phi[i+1,j] + phi[i-1,j] + phi[i,j+1] + phi[i,j-1])/4+(rho[i,j])/4\n",
    "                \n",
    "      #calculate maximun difference from old values\n",
    "    delta= max(abs(phi-phiprime))\n",
    "                    \n",
    "     #swap the two arrays around \n",
    "    phi, phiprime=phiprime,phi\n",
    "                \n",
    "#make a plot\n",
    "imshow(phi)\n",
    "inferno()\n",
    "show()\n",
    "            "
   ]
  },
  {
   "cell_type": "code",
   "execution_count": null,
   "metadata": {},
   "outputs": [],
   "source": []
  }
 ],
 "metadata": {
  "kernelspec": {
   "display_name": "VPython",
   "language": "python",
   "name": "vpython"
  },
  "language_info": {
   "codemirror_mode": {
    "name": "ipython",
    "version": 3
   },
   "file_extension": ".py",
   "mimetype": "text/x-python",
   "name": "python",
   "nbconvert_exporter": "python",
   "pygments_lexer": "ipython3",
   "version": "3.6.8"
  }
 },
 "nbformat": 4,
 "nbformat_minor": 2
}
